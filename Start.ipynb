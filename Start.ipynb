{
 "cells": [
  {
   "cell_type": "code",
   "execution_count": 4,
   "metadata": {},
   "outputs": [],
   "source": [
    "import pandas as pd\n",
    "from pathlib import Path\n",
    "import numpy as np\n",
    "import math\n",
    "import scipy\n",
    "from scipy.signal import find_peaks\n",
    "import plotly.graph_objects as go\n",
    "import plotly.express as px\n",
    "from plotly.subplots import make_subplots\n",
    "import datetime\n",
    "import matplotlib.pyplot as plt\n",
    "%matplotlib inline\n",
    "import geopandas as gpd"
   ]
  },
  {
   "cell_type": "code",
   "execution_count": 5,
   "metadata": {},
   "outputs": [
    {
     "data": {
      "text/html": [
       "<div>\n",
       "<style scoped>\n",
       "    .dataframe tbody tr th:only-of-type {\n",
       "        vertical-align: middle;\n",
       "    }\n",
       "\n",
       "    .dataframe tbody tr th {\n",
       "        vertical-align: top;\n",
       "    }\n",
       "\n",
       "    .dataframe thead th {\n",
       "        text-align: right;\n",
       "    }\n",
       "</style>\n",
       "<table border=\"1\" class=\"dataframe\">\n",
       "  <thead>\n",
       "    <tr style=\"text-align: right;\">\n",
       "      <th></th>\n",
       "      <th>count_point_id</th>\n",
       "      <th>year</th>\n",
       "      <th>region_id</th>\n",
       "      <th>region_name</th>\n",
       "      <th>local_authority_id</th>\n",
       "      <th>local_authority_name</th>\n",
       "      <th>road_name</th>\n",
       "      <th>road_type</th>\n",
       "      <th>start_junction_road_name</th>\n",
       "      <th>end_junction_road_name</th>\n",
       "      <th>...</th>\n",
       "      <th>buses_and_coaches</th>\n",
       "      <th>lgvs</th>\n",
       "      <th>hgvs_2_rigid_axle</th>\n",
       "      <th>hgvs_3_rigid_axle</th>\n",
       "      <th>hgvs_4_or_more_rigid_axle</th>\n",
       "      <th>hgvs_3_or_4_articulated_axle</th>\n",
       "      <th>hgvs_5_articulated_axle</th>\n",
       "      <th>hgvs_6_articulated_axle</th>\n",
       "      <th>all_hgvs</th>\n",
       "      <th>all_motor_vehicles</th>\n",
       "    </tr>\n",
       "  </thead>\n",
       "  <tbody>\n",
       "    <tr>\n",
       "      <th>0</th>\n",
       "      <td>6750</td>\n",
       "      <td>2014</td>\n",
       "      <td>6</td>\n",
       "      <td>London</td>\n",
       "      <td>96</td>\n",
       "      <td>Islington</td>\n",
       "      <td>A201</td>\n",
       "      <td>Major</td>\n",
       "      <td>Swinton St</td>\n",
       "      <td>Pentonville Rd</td>\n",
       "      <td>...</td>\n",
       "      <td>787</td>\n",
       "      <td>1728</td>\n",
       "      <td>204</td>\n",
       "      <td>74</td>\n",
       "      <td>132</td>\n",
       "      <td>15</td>\n",
       "      <td>6</td>\n",
       "      <td>18</td>\n",
       "      <td>449</td>\n",
       "      <td>11916</td>\n",
       "    </tr>\n",
       "    <tr>\n",
       "      <th>1</th>\n",
       "      <td>8352</td>\n",
       "      <td>2014</td>\n",
       "      <td>6</td>\n",
       "      <td>London</td>\n",
       "      <td>104</td>\n",
       "      <td>Lewisham</td>\n",
       "      <td>A2</td>\n",
       "      <td>Major</td>\n",
       "      <td>A20</td>\n",
       "      <td>A20</td>\n",
       "      <td>...</td>\n",
       "      <td>430</td>\n",
       "      <td>1415</td>\n",
       "      <td>258</td>\n",
       "      <td>36</td>\n",
       "      <td>58</td>\n",
       "      <td>6</td>\n",
       "      <td>11</td>\n",
       "      <td>22</td>\n",
       "      <td>390</td>\n",
       "      <td>9426</td>\n",
       "    </tr>\n",
       "    <tr>\n",
       "      <th>2</th>\n",
       "      <td>6807</td>\n",
       "      <td>2014</td>\n",
       "      <td>6</td>\n",
       "      <td>London</td>\n",
       "      <td>178</td>\n",
       "      <td>Kingston upon Thames</td>\n",
       "      <td>A240</td>\n",
       "      <td>Major</td>\n",
       "      <td>A3210</td>\n",
       "      <td>A307</td>\n",
       "      <td>...</td>\n",
       "      <td>175</td>\n",
       "      <td>1589</td>\n",
       "      <td>251</td>\n",
       "      <td>35</td>\n",
       "      <td>13</td>\n",
       "      <td>2</td>\n",
       "      <td>4</td>\n",
       "      <td>19</td>\n",
       "      <td>325</td>\n",
       "      <td>12951</td>\n",
       "    </tr>\n",
       "    <tr>\n",
       "      <th>3</th>\n",
       "      <td>27765</td>\n",
       "      <td>2014</td>\n",
       "      <td>6</td>\n",
       "      <td>London</td>\n",
       "      <td>57</td>\n",
       "      <td>Barnet</td>\n",
       "      <td>A5109</td>\n",
       "      <td>Major</td>\n",
       "      <td>Barnet Lane</td>\n",
       "      <td>A1000/A109</td>\n",
       "      <td>...</td>\n",
       "      <td>302</td>\n",
       "      <td>1651</td>\n",
       "      <td>246</td>\n",
       "      <td>12</td>\n",
       "      <td>12</td>\n",
       "      <td>0</td>\n",
       "      <td>1</td>\n",
       "      <td>1</td>\n",
       "      <td>273</td>\n",
       "      <td>19276</td>\n",
       "    </tr>\n",
       "    <tr>\n",
       "      <th>4</th>\n",
       "      <td>8488</td>\n",
       "      <td>2014</td>\n",
       "      <td>6</td>\n",
       "      <td>London</td>\n",
       "      <td>104</td>\n",
       "      <td>Lewisham</td>\n",
       "      <td>A20</td>\n",
       "      <td>Major</td>\n",
       "      <td>A20 Amersham Rd</td>\n",
       "      <td>A2 Parkfield Rd</td>\n",
       "      <td>...</td>\n",
       "      <td>656</td>\n",
       "      <td>1617</td>\n",
       "      <td>286</td>\n",
       "      <td>83</td>\n",
       "      <td>27</td>\n",
       "      <td>5</td>\n",
       "      <td>8</td>\n",
       "      <td>7</td>\n",
       "      <td>415</td>\n",
       "      <td>12821</td>\n",
       "    </tr>\n",
       "    <tr>\n",
       "      <th>...</th>\n",
       "      <td>...</td>\n",
       "      <td>...</td>\n",
       "      <td>...</td>\n",
       "      <td>...</td>\n",
       "      <td>...</td>\n",
       "      <td>...</td>\n",
       "      <td>...</td>\n",
       "      <td>...</td>\n",
       "      <td>...</td>\n",
       "      <td>...</td>\n",
       "      <td>...</td>\n",
       "      <td>...</td>\n",
       "      <td>...</td>\n",
       "      <td>...</td>\n",
       "      <td>...</td>\n",
       "      <td>...</td>\n",
       "      <td>...</td>\n",
       "      <td>...</td>\n",
       "      <td>...</td>\n",
       "      <td>...</td>\n",
       "      <td>...</td>\n",
       "    </tr>\n",
       "    <tr>\n",
       "      <th>50184</th>\n",
       "      <td>37106</td>\n",
       "      <td>2022</td>\n",
       "      <td>6</td>\n",
       "      <td>London</td>\n",
       "      <td>66</td>\n",
       "      <td>Hillingdon</td>\n",
       "      <td>A404</td>\n",
       "      <td>Major</td>\n",
       "      <td>LA Boundary</td>\n",
       "      <td>A4180</td>\n",
       "      <td>...</td>\n",
       "      <td>447</td>\n",
       "      <td>1672</td>\n",
       "      <td>211</td>\n",
       "      <td>42</td>\n",
       "      <td>43</td>\n",
       "      <td>9</td>\n",
       "      <td>7</td>\n",
       "      <td>6</td>\n",
       "      <td>318</td>\n",
       "      <td>16531</td>\n",
       "    </tr>\n",
       "    <tr>\n",
       "      <th>50185</th>\n",
       "      <td>17099</td>\n",
       "      <td>2022</td>\n",
       "      <td>6</td>\n",
       "      <td>London</td>\n",
       "      <td>66</td>\n",
       "      <td>Hillingdon</td>\n",
       "      <td>A437</td>\n",
       "      <td>Major</td>\n",
       "      <td>A4(T)</td>\n",
       "      <td>A312</td>\n",
       "      <td>...</td>\n",
       "      <td>553</td>\n",
       "      <td>1628</td>\n",
       "      <td>120</td>\n",
       "      <td>17</td>\n",
       "      <td>5</td>\n",
       "      <td>1</td>\n",
       "      <td>13</td>\n",
       "      <td>5</td>\n",
       "      <td>162</td>\n",
       "      <td>15900</td>\n",
       "    </tr>\n",
       "    <tr>\n",
       "      <th>50186</th>\n",
       "      <td>17024</td>\n",
       "      <td>2022</td>\n",
       "      <td>6</td>\n",
       "      <td>London</td>\n",
       "      <td>66</td>\n",
       "      <td>Hillingdon</td>\n",
       "      <td>A408</td>\n",
       "      <td>Major</td>\n",
       "      <td>A4</td>\n",
       "      <td>A3044</td>\n",
       "      <td>...</td>\n",
       "      <td>248</td>\n",
       "      <td>687</td>\n",
       "      <td>75</td>\n",
       "      <td>3</td>\n",
       "      <td>3</td>\n",
       "      <td>4</td>\n",
       "      <td>0</td>\n",
       "      <td>12</td>\n",
       "      <td>97</td>\n",
       "      <td>6503</td>\n",
       "    </tr>\n",
       "    <tr>\n",
       "      <th>50187</th>\n",
       "      <td>37713</td>\n",
       "      <td>2022</td>\n",
       "      <td>6</td>\n",
       "      <td>London</td>\n",
       "      <td>66</td>\n",
       "      <td>Hillingdon</td>\n",
       "      <td>A4007</td>\n",
       "      <td>Major</td>\n",
       "      <td>LA Boundary</td>\n",
       "      <td>A4020/A408</td>\n",
       "      <td>...</td>\n",
       "      <td>121</td>\n",
       "      <td>2078</td>\n",
       "      <td>364</td>\n",
       "      <td>78</td>\n",
       "      <td>24</td>\n",
       "      <td>5</td>\n",
       "      <td>66</td>\n",
       "      <td>53</td>\n",
       "      <td>589</td>\n",
       "      <td>12357</td>\n",
       "    </tr>\n",
       "    <tr>\n",
       "      <th>50188</th>\n",
       "      <td>78345</td>\n",
       "      <td>2022</td>\n",
       "      <td>6</td>\n",
       "      <td>London</td>\n",
       "      <td>66</td>\n",
       "      <td>Hillingdon</td>\n",
       "      <td>A40</td>\n",
       "      <td>Major</td>\n",
       "      <td>LA Boundary</td>\n",
       "      <td>B467 slips</td>\n",
       "      <td>...</td>\n",
       "      <td>298</td>\n",
       "      <td>20597</td>\n",
       "      <td>4623</td>\n",
       "      <td>537</td>\n",
       "      <td>1051</td>\n",
       "      <td>352</td>\n",
       "      <td>425</td>\n",
       "      <td>2249</td>\n",
       "      <td>9237</td>\n",
       "      <td>111780</td>\n",
       "    </tr>\n",
       "  </tbody>\n",
       "</table>\n",
       "<p>50189 rows × 31 columns</p>\n",
       "</div>"
      ],
      "text/plain": [
       "       count_point_id  year  region_id region_name  local_authority_id  \\\n",
       "0                6750  2014          6      London                  96   \n",
       "1                8352  2014          6      London                 104   \n",
       "2                6807  2014          6      London                 178   \n",
       "3               27765  2014          6      London                  57   \n",
       "4                8488  2014          6      London                 104   \n",
       "...               ...   ...        ...         ...                 ...   \n",
       "50184           37106  2022          6      London                  66   \n",
       "50185           17099  2022          6      London                  66   \n",
       "50186           17024  2022          6      London                  66   \n",
       "50187           37713  2022          6      London                  66   \n",
       "50188           78345  2022          6      London                  66   \n",
       "\n",
       "       local_authority_name road_name road_type start_junction_road_name  \\\n",
       "0                 Islington      A201     Major               Swinton St   \n",
       "1                  Lewisham        A2     Major                      A20   \n",
       "2      Kingston upon Thames      A240     Major                    A3210   \n",
       "3                    Barnet     A5109     Major              Barnet Lane   \n",
       "4                  Lewisham       A20     Major          A20 Amersham Rd   \n",
       "...                     ...       ...       ...                      ...   \n",
       "50184            Hillingdon      A404     Major              LA Boundary   \n",
       "50185            Hillingdon      A437     Major                    A4(T)   \n",
       "50186            Hillingdon      A408     Major                       A4   \n",
       "50187            Hillingdon     A4007     Major              LA Boundary   \n",
       "50188            Hillingdon       A40     Major              LA Boundary   \n",
       "\n",
       "      end_junction_road_name  ...  buses_and_coaches   lgvs  \\\n",
       "0             Pentonville Rd  ...                787   1728   \n",
       "1                        A20  ...                430   1415   \n",
       "2                       A307  ...                175   1589   \n",
       "3                 A1000/A109  ...                302   1651   \n",
       "4            A2 Parkfield Rd  ...                656   1617   \n",
       "...                      ...  ...                ...    ...   \n",
       "50184                  A4180  ...                447   1672   \n",
       "50185                   A312  ...                553   1628   \n",
       "50186                  A3044  ...                248    687   \n",
       "50187             A4020/A408  ...                121   2078   \n",
       "50188             B467 slips  ...                298  20597   \n",
       "\n",
       "       hgvs_2_rigid_axle  hgvs_3_rigid_axle  hgvs_4_or_more_rigid_axle  \\\n",
       "0                    204                 74                        132   \n",
       "1                    258                 36                         58   \n",
       "2                    251                 35                         13   \n",
       "3                    246                 12                         12   \n",
       "4                    286                 83                         27   \n",
       "...                  ...                ...                        ...   \n",
       "50184                211                 42                         43   \n",
       "50185                120                 17                          5   \n",
       "50186                 75                  3                          3   \n",
       "50187                364                 78                         24   \n",
       "50188               4623                537                       1051   \n",
       "\n",
       "       hgvs_3_or_4_articulated_axle hgvs_5_articulated_axle  \\\n",
       "0                                15                       6   \n",
       "1                                 6                      11   \n",
       "2                                 2                       4   \n",
       "3                                 0                       1   \n",
       "4                                 5                       8   \n",
       "...                             ...                     ...   \n",
       "50184                             9                       7   \n",
       "50185                             1                      13   \n",
       "50186                             4                       0   \n",
       "50187                             5                      66   \n",
       "50188                           352                     425   \n",
       "\n",
       "      hgvs_6_articulated_axle  all_hgvs  all_motor_vehicles  \n",
       "0                          18       449               11916  \n",
       "1                          22       390                9426  \n",
       "2                          19       325               12951  \n",
       "3                           1       273               19276  \n",
       "4                           7       415               12821  \n",
       "...                       ...       ...                 ...  \n",
       "50184                       6       318               16531  \n",
       "50185                       5       162               15900  \n",
       "50186                      12        97                6503  \n",
       "50187                      53       589               12357  \n",
       "50188                    2249      9237              111780  \n",
       "\n",
       "[50189 rows x 31 columns]"
      ]
     },
     "execution_count": 5,
     "metadata": {},
     "output_type": "execute_result"
    }
   ],
   "source": [
    "file_path_london_aadf = r\"C:\\Users\\yusuf\\Documents\\TIL6022 Project\\Data\\dft_aadf_region_id_6.csv\"\n",
    "file_path_london_aadf_direction = r\"C:\\Users\\yusuf\\Documents\\TIL6022 Project\\Data\\dft_aadfbydirection_region_id_6.csv\"\n",
    "file_path_london_countpoints = r\"C:\\Users\\yusuf\\Documents\\TIL6022 Project\\Data\\dft_countpoints_region_id_6.csv\"\n",
    "file_path_london_rawcount = r\"C:\\Users\\yusuf\\Documents\\TIL6022 Project\\Data\\dft_rawcount_region_id_6.csv\"\n",
    "file_path_london_road_type = r\"C:\\Users\\yusuf\\Documents\\TIL6022 Project\\Data\\dft_traffic_road_type_region_id_6.csv\"\n",
    "file_path_london_vehicletype = r\"C:\\Users\\yusuf\\Documents\\TIL6022 Project\\Data\\dft_traffic_vehicle_type_region_id_6.csv\"\n",
    "\n",
    "df_traffic = pd.read_csv(file_path_london_aadf)\n",
    "\n",
    "df_traffic"
   ]
  },
  {
   "cell_type": "code",
   "execution_count": 6,
   "metadata": {},
   "outputs": [
    {
     "data": {
      "text/html": [
       "<div>\n",
       "<style scoped>\n",
       "    .dataframe tbody tr th:only-of-type {\n",
       "        vertical-align: middle;\n",
       "    }\n",
       "\n",
       "    .dataframe tbody tr th {\n",
       "        vertical-align: top;\n",
       "    }\n",
       "\n",
       "    .dataframe thead th {\n",
       "        text-align: right;\n",
       "    }\n",
       "</style>\n",
       "<table border=\"1\" class=\"dataframe\">\n",
       "  <thead>\n",
       "    <tr style=\"text-align: right;\">\n",
       "      <th></th>\n",
       "      <th>count_point_id</th>\n",
       "      <th>year</th>\n",
       "      <th>region_id</th>\n",
       "      <th>region_name</th>\n",
       "      <th>local_authority_id</th>\n",
       "      <th>local_authority_name</th>\n",
       "      <th>road_name</th>\n",
       "      <th>road_type</th>\n",
       "      <th>start_junction_road_name</th>\n",
       "      <th>end_junction_road_name</th>\n",
       "      <th>...</th>\n",
       "      <th>buses_and_coaches</th>\n",
       "      <th>lgvs</th>\n",
       "      <th>hgvs_2_rigid_axle</th>\n",
       "      <th>hgvs_3_rigid_axle</th>\n",
       "      <th>hgvs_4_or_more_rigid_axle</th>\n",
       "      <th>hgvs_3_or_4_articulated_axle</th>\n",
       "      <th>hgvs_5_articulated_axle</th>\n",
       "      <th>hgvs_6_articulated_axle</th>\n",
       "      <th>all_hgvs</th>\n",
       "      <th>all_motor_vehicles</th>\n",
       "    </tr>\n",
       "  </thead>\n",
       "  <tbody>\n",
       "    <tr>\n",
       "      <th>138</th>\n",
       "      <td>8448</td>\n",
       "      <td>2014</td>\n",
       "      <td>6</td>\n",
       "      <td>London</td>\n",
       "      <td>109</td>\n",
       "      <td>Westminster</td>\n",
       "      <td>A4</td>\n",
       "      <td>Major</td>\n",
       "      <td>Pall Mall</td>\n",
       "      <td>Piccadilly Circus</td>\n",
       "      <td>...</td>\n",
       "      <td>2333</td>\n",
       "      <td>2267</td>\n",
       "      <td>403</td>\n",
       "      <td>77</td>\n",
       "      <td>20</td>\n",
       "      <td>3</td>\n",
       "      <td>1</td>\n",
       "      <td>0</td>\n",
       "      <td>504</td>\n",
       "      <td>11731</td>\n",
       "    </tr>\n",
       "    <tr>\n",
       "      <th>146</th>\n",
       "      <td>6152</td>\n",
       "      <td>2016</td>\n",
       "      <td>6</td>\n",
       "      <td>London</td>\n",
       "      <td>109</td>\n",
       "      <td>Westminster</td>\n",
       "      <td>A5</td>\n",
       "      <td>Major</td>\n",
       "      <td>Sussex Gdns</td>\n",
       "      <td>Seymour St</td>\n",
       "      <td>...</td>\n",
       "      <td>2638</td>\n",
       "      <td>5401</td>\n",
       "      <td>533</td>\n",
       "      <td>221</td>\n",
       "      <td>310</td>\n",
       "      <td>9</td>\n",
       "      <td>40</td>\n",
       "      <td>133</td>\n",
       "      <td>1246</td>\n",
       "      <td>34110</td>\n",
       "    </tr>\n",
       "    <tr>\n",
       "      <th>149</th>\n",
       "      <td>27787</td>\n",
       "      <td>2014</td>\n",
       "      <td>6</td>\n",
       "      <td>London</td>\n",
       "      <td>109</td>\n",
       "      <td>Westminster</td>\n",
       "      <td>A5205</td>\n",
       "      <td>Major</td>\n",
       "      <td>A41</td>\n",
       "      <td>LA Boundary</td>\n",
       "      <td>...</td>\n",
       "      <td>464</td>\n",
       "      <td>3721</td>\n",
       "      <td>657</td>\n",
       "      <td>81</td>\n",
       "      <td>61</td>\n",
       "      <td>19</td>\n",
       "      <td>11</td>\n",
       "      <td>4</td>\n",
       "      <td>834</td>\n",
       "      <td>19949</td>\n",
       "    </tr>\n",
       "    <tr>\n",
       "      <th>150</th>\n",
       "      <td>6896</td>\n",
       "      <td>2014</td>\n",
       "      <td>6</td>\n",
       "      <td>London</td>\n",
       "      <td>109</td>\n",
       "      <td>Westminster</td>\n",
       "      <td>A315</td>\n",
       "      <td>Major</td>\n",
       "      <td>LA Boundary</td>\n",
       "      <td>A4/A3216</td>\n",
       "      <td>...</td>\n",
       "      <td>1610</td>\n",
       "      <td>2281</td>\n",
       "      <td>809</td>\n",
       "      <td>93</td>\n",
       "      <td>39</td>\n",
       "      <td>7</td>\n",
       "      <td>10</td>\n",
       "      <td>25</td>\n",
       "      <td>982</td>\n",
       "      <td>17683</td>\n",
       "    </tr>\n",
       "    <tr>\n",
       "      <th>279</th>\n",
       "      <td>26432</td>\n",
       "      <td>2014</td>\n",
       "      <td>6</td>\n",
       "      <td>London</td>\n",
       "      <td>109</td>\n",
       "      <td>Westminster</td>\n",
       "      <td>A402</td>\n",
       "      <td>Major</td>\n",
       "      <td>Westbourne Street</td>\n",
       "      <td>Marble Arch</td>\n",
       "      <td>...</td>\n",
       "      <td>1320</td>\n",
       "      <td>5181</td>\n",
       "      <td>560</td>\n",
       "      <td>90</td>\n",
       "      <td>39</td>\n",
       "      <td>1</td>\n",
       "      <td>14</td>\n",
       "      <td>22</td>\n",
       "      <td>726</td>\n",
       "      <td>31801</td>\n",
       "    </tr>\n",
       "    <tr>\n",
       "      <th>...</th>\n",
       "      <td>...</td>\n",
       "      <td>...</td>\n",
       "      <td>...</td>\n",
       "      <td>...</td>\n",
       "      <td>...</td>\n",
       "      <td>...</td>\n",
       "      <td>...</td>\n",
       "      <td>...</td>\n",
       "      <td>...</td>\n",
       "      <td>...</td>\n",
       "      <td>...</td>\n",
       "      <td>...</td>\n",
       "      <td>...</td>\n",
       "      <td>...</td>\n",
       "      <td>...</td>\n",
       "      <td>...</td>\n",
       "      <td>...</td>\n",
       "      <td>...</td>\n",
       "      <td>...</td>\n",
       "      <td>...</td>\n",
       "      <td>...</td>\n",
       "    </tr>\n",
       "    <tr>\n",
       "      <th>49542</th>\n",
       "      <td>74977</td>\n",
       "      <td>2022</td>\n",
       "      <td>6</td>\n",
       "      <td>London</td>\n",
       "      <td>109</td>\n",
       "      <td>Westminster</td>\n",
       "      <td>A4380</td>\n",
       "      <td>Major</td>\n",
       "      <td>York St</td>\n",
       "      <td>Marylebone Rd</td>\n",
       "      <td>...</td>\n",
       "      <td>1250</td>\n",
       "      <td>2731</td>\n",
       "      <td>204</td>\n",
       "      <td>37</td>\n",
       "      <td>47</td>\n",
       "      <td>17</td>\n",
       "      <td>2</td>\n",
       "      <td>3</td>\n",
       "      <td>310</td>\n",
       "      <td>13211</td>\n",
       "    </tr>\n",
       "    <tr>\n",
       "      <th>49543</th>\n",
       "      <td>36471</td>\n",
       "      <td>2022</td>\n",
       "      <td>6</td>\n",
       "      <td>London</td>\n",
       "      <td>109</td>\n",
       "      <td>Westminster</td>\n",
       "      <td>A41</td>\n",
       "      <td>Major</td>\n",
       "      <td>A40</td>\n",
       "      <td>A5204</td>\n",
       "      <td>...</td>\n",
       "      <td>1223</td>\n",
       "      <td>1153</td>\n",
       "      <td>301</td>\n",
       "      <td>35</td>\n",
       "      <td>37</td>\n",
       "      <td>11</td>\n",
       "      <td>8</td>\n",
       "      <td>9</td>\n",
       "      <td>400</td>\n",
       "      <td>10570</td>\n",
       "    </tr>\n",
       "    <tr>\n",
       "      <th>49546</th>\n",
       "      <td>74972</td>\n",
       "      <td>2022</td>\n",
       "      <td>6</td>\n",
       "      <td>London</td>\n",
       "      <td>109</td>\n",
       "      <td>Westminster</td>\n",
       "      <td>A5</td>\n",
       "      <td>Major</td>\n",
       "      <td>A40</td>\n",
       "      <td>Praed St</td>\n",
       "      <td>...</td>\n",
       "      <td>1385</td>\n",
       "      <td>3813</td>\n",
       "      <td>627</td>\n",
       "      <td>88</td>\n",
       "      <td>82</td>\n",
       "      <td>17</td>\n",
       "      <td>13</td>\n",
       "      <td>45</td>\n",
       "      <td>873</td>\n",
       "      <td>24038</td>\n",
       "    </tr>\n",
       "    <tr>\n",
       "      <th>49547</th>\n",
       "      <td>74978</td>\n",
       "      <td>2021</td>\n",
       "      <td>6</td>\n",
       "      <td>London</td>\n",
       "      <td>109</td>\n",
       "      <td>Westminster</td>\n",
       "      <td>A41</td>\n",
       "      <td>Major</td>\n",
       "      <td>Marylebone Rd</td>\n",
       "      <td>York St</td>\n",
       "      <td>...</td>\n",
       "      <td>1208</td>\n",
       "      <td>1063</td>\n",
       "      <td>282</td>\n",
       "      <td>33</td>\n",
       "      <td>36</td>\n",
       "      <td>10</td>\n",
       "      <td>7</td>\n",
       "      <td>9</td>\n",
       "      <td>377</td>\n",
       "      <td>10157</td>\n",
       "    </tr>\n",
       "    <tr>\n",
       "      <th>49549</th>\n",
       "      <td>48578</td>\n",
       "      <td>2022</td>\n",
       "      <td>6</td>\n",
       "      <td>London</td>\n",
       "      <td>109</td>\n",
       "      <td>Westminster</td>\n",
       "      <td>A302</td>\n",
       "      <td>Major</td>\n",
       "      <td>LA Boundary</td>\n",
       "      <td>A3211</td>\n",
       "      <td>...</td>\n",
       "      <td>2173</td>\n",
       "      <td>2056</td>\n",
       "      <td>139</td>\n",
       "      <td>49</td>\n",
       "      <td>46</td>\n",
       "      <td>5</td>\n",
       "      <td>14</td>\n",
       "      <td>11</td>\n",
       "      <td>264</td>\n",
       "      <td>14127</td>\n",
       "    </tr>\n",
       "  </tbody>\n",
       "</table>\n",
       "<p>2754 rows × 31 columns</p>\n",
       "</div>"
      ],
      "text/plain": [
       "       count_point_id  year  region_id region_name  local_authority_id  \\\n",
       "138              8448  2014          6      London                 109   \n",
       "146              6152  2016          6      London                 109   \n",
       "149             27787  2014          6      London                 109   \n",
       "150              6896  2014          6      London                 109   \n",
       "279             26432  2014          6      London                 109   \n",
       "...               ...   ...        ...         ...                 ...   \n",
       "49542           74977  2022          6      London                 109   \n",
       "49543           36471  2022          6      London                 109   \n",
       "49546           74972  2022          6      London                 109   \n",
       "49547           74978  2021          6      London                 109   \n",
       "49549           48578  2022          6      London                 109   \n",
       "\n",
       "      local_authority_name road_name road_type start_junction_road_name  \\\n",
       "138            Westminster        A4     Major                Pall Mall   \n",
       "146            Westminster        A5     Major              Sussex Gdns   \n",
       "149            Westminster     A5205     Major                      A41   \n",
       "150            Westminster      A315     Major              LA Boundary   \n",
       "279            Westminster      A402     Major        Westbourne Street   \n",
       "...                    ...       ...       ...                      ...   \n",
       "49542          Westminster     A4380     Major                  York St   \n",
       "49543          Westminster       A41     Major                      A40   \n",
       "49546          Westminster        A5     Major                      A40   \n",
       "49547          Westminster       A41     Major            Marylebone Rd   \n",
       "49549          Westminster      A302     Major              LA Boundary   \n",
       "\n",
       "      end_junction_road_name  ...  buses_and_coaches  lgvs  hgvs_2_rigid_axle  \\\n",
       "138        Piccadilly Circus  ...               2333  2267                403   \n",
       "146               Seymour St  ...               2638  5401                533   \n",
       "149              LA Boundary  ...                464  3721                657   \n",
       "150                 A4/A3216  ...               1610  2281                809   \n",
       "279              Marble Arch  ...               1320  5181                560   \n",
       "...                      ...  ...                ...   ...                ...   \n",
       "49542          Marylebone Rd  ...               1250  2731                204   \n",
       "49543                  A5204  ...               1223  1153                301   \n",
       "49546               Praed St  ...               1385  3813                627   \n",
       "49547                York St  ...               1208  1063                282   \n",
       "49549                  A3211  ...               2173  2056                139   \n",
       "\n",
       "       hgvs_3_rigid_axle  hgvs_4_or_more_rigid_axle  \\\n",
       "138                   77                         20   \n",
       "146                  221                        310   \n",
       "149                   81                         61   \n",
       "150                   93                         39   \n",
       "279                   90                         39   \n",
       "...                  ...                        ...   \n",
       "49542                 37                         47   \n",
       "49543                 35                         37   \n",
       "49546                 88                         82   \n",
       "49547                 33                         36   \n",
       "49549                 49                         46   \n",
       "\n",
       "       hgvs_3_or_4_articulated_axle hgvs_5_articulated_axle  \\\n",
       "138                               3                       1   \n",
       "146                               9                      40   \n",
       "149                              19                      11   \n",
       "150                               7                      10   \n",
       "279                               1                      14   \n",
       "...                             ...                     ...   \n",
       "49542                            17                       2   \n",
       "49543                            11                       8   \n",
       "49546                            17                      13   \n",
       "49547                            10                       7   \n",
       "49549                             5                      14   \n",
       "\n",
       "      hgvs_6_articulated_axle  all_hgvs  all_motor_vehicles  \n",
       "138                         0       504               11731  \n",
       "146                       133      1246               34110  \n",
       "149                         4       834               19949  \n",
       "150                        25       982               17683  \n",
       "279                        22       726               31801  \n",
       "...                       ...       ...                 ...  \n",
       "49542                       3       310               13211  \n",
       "49543                       9       400               10570  \n",
       "49546                      45       873               24038  \n",
       "49547                       9       377               10157  \n",
       "49549                      11       264               14127  \n",
       "\n",
       "[2754 rows x 31 columns]"
      ]
     },
     "execution_count": 6,
     "metadata": {},
     "output_type": "execute_result"
    }
   ],
   "source": [
    "\n",
    "\n",
    "df_traffic[(df_traffic[\"local_authority_name\"] == \"Westminster\")]\n",
    "           \n"
   ]
  },
  {
   "cell_type": "code",
   "execution_count": 24,
   "metadata": {},
   "outputs": [],
   "source": [
    "areas_inside_congestion_zone = [\"Westminster\", \"Lambeth\", \"Southwark\", \"City of London\",\n",
    "                                 \"Tower Hamlets\", \"Islington\", \"Camden\"]\n",
    "\n",
    "roads_to_remove = [\"A501\", \"A40\", \"A5\", \"A4202\", \"A4\", \"A302\", \"A3204\", \"A3\", \"A201\", \n",
    "                   \"Tower Bridge Rd\", \"A100\", \"A1210\", \"Great Eastern St\"]"
   ]
  },
  {
   "cell_type": "code",
   "execution_count": 25,
   "metadata": {},
   "outputs": [],
   "source": [
    "df_congestion = df_traffic[df_traffic[\"local_authority_name\"].isin(areas_inside_congestion_zone)]\n",
    "df_congestion_new = df_congestion[~df_congestion[\"road_name\"].isin(roads_to_remove)]"
   ]
  },
  {
   "cell_type": "code",
   "execution_count": 27,
   "metadata": {},
   "outputs": [
    {
     "data": {
      "application/vnd.plotly.v1+json": {
       "config": {
        "plotlyServerURL": "https://plot.ly"
       },
       "data": [
        {
         "alignmentgroup": "True",
         "hovertemplate": "Total Motor Vehicles=%{x}<br>Local Authority=%{y}<extra></extra>",
         "legendgroup": "",
         "marker": {
          "color": "#636efa",
          "pattern": {
           "shape": ""
          }
         },
         "name": "",
         "offsetgroup": "",
         "orientation": "h",
         "showlegend": false,
         "textposition": "auto",
         "type": "bar",
         "x": [
          35961655,
          19975365,
          28508374,
          42425156,
          42800393,
          47145673,
          66814161
         ],
         "xaxis": "x",
         "y": [
          "Camden",
          "City of London",
          "Islington",
          "Lambeth",
          "Southwark",
          "Tower Hamlets",
          "Westminster"
         ],
         "yaxis": "y"
        }
       ],
       "layout": {
        "barmode": "relative",
        "legend": {
         "tracegroupgap": 0
        },
        "margin": {
         "t": 60
        },
        "template": {
         "data": {
          "bar": [
           {
            "error_x": {
             "color": "#2a3f5f"
            },
            "error_y": {
             "color": "#2a3f5f"
            },
            "marker": {
             "line": {
              "color": "#E5ECF6",
              "width": 0.5
             },
             "pattern": {
              "fillmode": "overlay",
              "size": 10,
              "solidity": 0.2
             }
            },
            "type": "bar"
           }
          ],
          "barpolar": [
           {
            "marker": {
             "line": {
              "color": "#E5ECF6",
              "width": 0.5
             },
             "pattern": {
              "fillmode": "overlay",
              "size": 10,
              "solidity": 0.2
             }
            },
            "type": "barpolar"
           }
          ],
          "carpet": [
           {
            "aaxis": {
             "endlinecolor": "#2a3f5f",
             "gridcolor": "white",
             "linecolor": "white",
             "minorgridcolor": "white",
             "startlinecolor": "#2a3f5f"
            },
            "baxis": {
             "endlinecolor": "#2a3f5f",
             "gridcolor": "white",
             "linecolor": "white",
             "minorgridcolor": "white",
             "startlinecolor": "#2a3f5f"
            },
            "type": "carpet"
           }
          ],
          "choropleth": [
           {
            "colorbar": {
             "outlinewidth": 0,
             "ticks": ""
            },
            "type": "choropleth"
           }
          ],
          "contour": [
           {
            "colorbar": {
             "outlinewidth": 0,
             "ticks": ""
            },
            "colorscale": [
             [
              0,
              "#0d0887"
             ],
             [
              0.1111111111111111,
              "#46039f"
             ],
             [
              0.2222222222222222,
              "#7201a8"
             ],
             [
              0.3333333333333333,
              "#9c179e"
             ],
             [
              0.4444444444444444,
              "#bd3786"
             ],
             [
              0.5555555555555556,
              "#d8576b"
             ],
             [
              0.6666666666666666,
              "#ed7953"
             ],
             [
              0.7777777777777778,
              "#fb9f3a"
             ],
             [
              0.8888888888888888,
              "#fdca26"
             ],
             [
              1,
              "#f0f921"
             ]
            ],
            "type": "contour"
           }
          ],
          "contourcarpet": [
           {
            "colorbar": {
             "outlinewidth": 0,
             "ticks": ""
            },
            "type": "contourcarpet"
           }
          ],
          "heatmap": [
           {
            "colorbar": {
             "outlinewidth": 0,
             "ticks": ""
            },
            "colorscale": [
             [
              0,
              "#0d0887"
             ],
             [
              0.1111111111111111,
              "#46039f"
             ],
             [
              0.2222222222222222,
              "#7201a8"
             ],
             [
              0.3333333333333333,
              "#9c179e"
             ],
             [
              0.4444444444444444,
              "#bd3786"
             ],
             [
              0.5555555555555556,
              "#d8576b"
             ],
             [
              0.6666666666666666,
              "#ed7953"
             ],
             [
              0.7777777777777778,
              "#fb9f3a"
             ],
             [
              0.8888888888888888,
              "#fdca26"
             ],
             [
              1,
              "#f0f921"
             ]
            ],
            "type": "heatmap"
           }
          ],
          "heatmapgl": [
           {
            "colorbar": {
             "outlinewidth": 0,
             "ticks": ""
            },
            "colorscale": [
             [
              0,
              "#0d0887"
             ],
             [
              0.1111111111111111,
              "#46039f"
             ],
             [
              0.2222222222222222,
              "#7201a8"
             ],
             [
              0.3333333333333333,
              "#9c179e"
             ],
             [
              0.4444444444444444,
              "#bd3786"
             ],
             [
              0.5555555555555556,
              "#d8576b"
             ],
             [
              0.6666666666666666,
              "#ed7953"
             ],
             [
              0.7777777777777778,
              "#fb9f3a"
             ],
             [
              0.8888888888888888,
              "#fdca26"
             ],
             [
              1,
              "#f0f921"
             ]
            ],
            "type": "heatmapgl"
           }
          ],
          "histogram": [
           {
            "marker": {
             "pattern": {
              "fillmode": "overlay",
              "size": 10,
              "solidity": 0.2
             }
            },
            "type": "histogram"
           }
          ],
          "histogram2d": [
           {
            "colorbar": {
             "outlinewidth": 0,
             "ticks": ""
            },
            "colorscale": [
             [
              0,
              "#0d0887"
             ],
             [
              0.1111111111111111,
              "#46039f"
             ],
             [
              0.2222222222222222,
              "#7201a8"
             ],
             [
              0.3333333333333333,
              "#9c179e"
             ],
             [
              0.4444444444444444,
              "#bd3786"
             ],
             [
              0.5555555555555556,
              "#d8576b"
             ],
             [
              0.6666666666666666,
              "#ed7953"
             ],
             [
              0.7777777777777778,
              "#fb9f3a"
             ],
             [
              0.8888888888888888,
              "#fdca26"
             ],
             [
              1,
              "#f0f921"
             ]
            ],
            "type": "histogram2d"
           }
          ],
          "histogram2dcontour": [
           {
            "colorbar": {
             "outlinewidth": 0,
             "ticks": ""
            },
            "colorscale": [
             [
              0,
              "#0d0887"
             ],
             [
              0.1111111111111111,
              "#46039f"
             ],
             [
              0.2222222222222222,
              "#7201a8"
             ],
             [
              0.3333333333333333,
              "#9c179e"
             ],
             [
              0.4444444444444444,
              "#bd3786"
             ],
             [
              0.5555555555555556,
              "#d8576b"
             ],
             [
              0.6666666666666666,
              "#ed7953"
             ],
             [
              0.7777777777777778,
              "#fb9f3a"
             ],
             [
              0.8888888888888888,
              "#fdca26"
             ],
             [
              1,
              "#f0f921"
             ]
            ],
            "type": "histogram2dcontour"
           }
          ],
          "mesh3d": [
           {
            "colorbar": {
             "outlinewidth": 0,
             "ticks": ""
            },
            "type": "mesh3d"
           }
          ],
          "parcoords": [
           {
            "line": {
             "colorbar": {
              "outlinewidth": 0,
              "ticks": ""
             }
            },
            "type": "parcoords"
           }
          ],
          "pie": [
           {
            "automargin": true,
            "type": "pie"
           }
          ],
          "scatter": [
           {
            "fillpattern": {
             "fillmode": "overlay",
             "size": 10,
             "solidity": 0.2
            },
            "type": "scatter"
           }
          ],
          "scatter3d": [
           {
            "line": {
             "colorbar": {
              "outlinewidth": 0,
              "ticks": ""
             }
            },
            "marker": {
             "colorbar": {
              "outlinewidth": 0,
              "ticks": ""
             }
            },
            "type": "scatter3d"
           }
          ],
          "scattercarpet": [
           {
            "marker": {
             "colorbar": {
              "outlinewidth": 0,
              "ticks": ""
             }
            },
            "type": "scattercarpet"
           }
          ],
          "scattergeo": [
           {
            "marker": {
             "colorbar": {
              "outlinewidth": 0,
              "ticks": ""
             }
            },
            "type": "scattergeo"
           }
          ],
          "scattergl": [
           {
            "marker": {
             "colorbar": {
              "outlinewidth": 0,
              "ticks": ""
             }
            },
            "type": "scattergl"
           }
          ],
          "scattermapbox": [
           {
            "marker": {
             "colorbar": {
              "outlinewidth": 0,
              "ticks": ""
             }
            },
            "type": "scattermapbox"
           }
          ],
          "scatterpolar": [
           {
            "marker": {
             "colorbar": {
              "outlinewidth": 0,
              "ticks": ""
             }
            },
            "type": "scatterpolar"
           }
          ],
          "scatterpolargl": [
           {
            "marker": {
             "colorbar": {
              "outlinewidth": 0,
              "ticks": ""
             }
            },
            "type": "scatterpolargl"
           }
          ],
          "scatterternary": [
           {
            "marker": {
             "colorbar": {
              "outlinewidth": 0,
              "ticks": ""
             }
            },
            "type": "scatterternary"
           }
          ],
          "surface": [
           {
            "colorbar": {
             "outlinewidth": 0,
             "ticks": ""
            },
            "colorscale": [
             [
              0,
              "#0d0887"
             ],
             [
              0.1111111111111111,
              "#46039f"
             ],
             [
              0.2222222222222222,
              "#7201a8"
             ],
             [
              0.3333333333333333,
              "#9c179e"
             ],
             [
              0.4444444444444444,
              "#bd3786"
             ],
             [
              0.5555555555555556,
              "#d8576b"
             ],
             [
              0.6666666666666666,
              "#ed7953"
             ],
             [
              0.7777777777777778,
              "#fb9f3a"
             ],
             [
              0.8888888888888888,
              "#fdca26"
             ],
             [
              1,
              "#f0f921"
             ]
            ],
            "type": "surface"
           }
          ],
          "table": [
           {
            "cells": {
             "fill": {
              "color": "#EBF0F8"
             },
             "line": {
              "color": "white"
             }
            },
            "header": {
             "fill": {
              "color": "#C8D4E3"
             },
             "line": {
              "color": "white"
             }
            },
            "type": "table"
           }
          ]
         },
         "layout": {
          "annotationdefaults": {
           "arrowcolor": "#2a3f5f",
           "arrowhead": 0,
           "arrowwidth": 1
          },
          "autotypenumbers": "strict",
          "coloraxis": {
           "colorbar": {
            "outlinewidth": 0,
            "ticks": ""
           }
          },
          "colorscale": {
           "diverging": [
            [
             0,
             "#8e0152"
            ],
            [
             0.1,
             "#c51b7d"
            ],
            [
             0.2,
             "#de77ae"
            ],
            [
             0.3,
             "#f1b6da"
            ],
            [
             0.4,
             "#fde0ef"
            ],
            [
             0.5,
             "#f7f7f7"
            ],
            [
             0.6,
             "#e6f5d0"
            ],
            [
             0.7,
             "#b8e186"
            ],
            [
             0.8,
             "#7fbc41"
            ],
            [
             0.9,
             "#4d9221"
            ],
            [
             1,
             "#276419"
            ]
           ],
           "sequential": [
            [
             0,
             "#0d0887"
            ],
            [
             0.1111111111111111,
             "#46039f"
            ],
            [
             0.2222222222222222,
             "#7201a8"
            ],
            [
             0.3333333333333333,
             "#9c179e"
            ],
            [
             0.4444444444444444,
             "#bd3786"
            ],
            [
             0.5555555555555556,
             "#d8576b"
            ],
            [
             0.6666666666666666,
             "#ed7953"
            ],
            [
             0.7777777777777778,
             "#fb9f3a"
            ],
            [
             0.8888888888888888,
             "#fdca26"
            ],
            [
             1,
             "#f0f921"
            ]
           ],
           "sequentialminus": [
            [
             0,
             "#0d0887"
            ],
            [
             0.1111111111111111,
             "#46039f"
            ],
            [
             0.2222222222222222,
             "#7201a8"
            ],
            [
             0.3333333333333333,
             "#9c179e"
            ],
            [
             0.4444444444444444,
             "#bd3786"
            ],
            [
             0.5555555555555556,
             "#d8576b"
            ],
            [
             0.6666666666666666,
             "#ed7953"
            ],
            [
             0.7777777777777778,
             "#fb9f3a"
            ],
            [
             0.8888888888888888,
             "#fdca26"
            ],
            [
             1,
             "#f0f921"
            ]
           ]
          },
          "colorway": [
           "#636efa",
           "#EF553B",
           "#00cc96",
           "#ab63fa",
           "#FFA15A",
           "#19d3f3",
           "#FF6692",
           "#B6E880",
           "#FF97FF",
           "#FECB52"
          ],
          "font": {
           "color": "#2a3f5f"
          },
          "geo": {
           "bgcolor": "white",
           "lakecolor": "white",
           "landcolor": "#E5ECF6",
           "showlakes": true,
           "showland": true,
           "subunitcolor": "white"
          },
          "hoverlabel": {
           "align": "left"
          },
          "hovermode": "closest",
          "mapbox": {
           "style": "light"
          },
          "paper_bgcolor": "white",
          "plot_bgcolor": "#E5ECF6",
          "polar": {
           "angularaxis": {
            "gridcolor": "white",
            "linecolor": "white",
            "ticks": ""
           },
           "bgcolor": "#E5ECF6",
           "radialaxis": {
            "gridcolor": "white",
            "linecolor": "white",
            "ticks": ""
           }
          },
          "scene": {
           "xaxis": {
            "backgroundcolor": "#E5ECF6",
            "gridcolor": "white",
            "gridwidth": 2,
            "linecolor": "white",
            "showbackground": true,
            "ticks": "",
            "zerolinecolor": "white"
           },
           "yaxis": {
            "backgroundcolor": "#E5ECF6",
            "gridcolor": "white",
            "gridwidth": 2,
            "linecolor": "white",
            "showbackground": true,
            "ticks": "",
            "zerolinecolor": "white"
           },
           "zaxis": {
            "backgroundcolor": "#E5ECF6",
            "gridcolor": "white",
            "gridwidth": 2,
            "linecolor": "white",
            "showbackground": true,
            "ticks": "",
            "zerolinecolor": "white"
           }
          },
          "shapedefaults": {
           "line": {
            "color": "#2a3f5f"
           }
          },
          "ternary": {
           "aaxis": {
            "gridcolor": "white",
            "linecolor": "white",
            "ticks": ""
           },
           "baxis": {
            "gridcolor": "white",
            "linecolor": "white",
            "ticks": ""
           },
           "bgcolor": "#E5ECF6",
           "caxis": {
            "gridcolor": "white",
            "linecolor": "white",
            "ticks": ""
           }
          },
          "title": {
           "x": 0.05
          },
          "xaxis": {
           "automargin": true,
           "gridcolor": "white",
           "linecolor": "white",
           "ticks": "",
           "title": {
            "standoff": 15
           },
           "zerolinecolor": "white",
           "zerolinewidth": 2
          },
          "yaxis": {
           "automargin": true,
           "gridcolor": "white",
           "linecolor": "white",
           "ticks": "",
           "title": {
            "standoff": 15
           },
           "zerolinecolor": "white",
           "zerolinewidth": 2
          }
         }
        },
        "xaxis": {
         "anchor": "y",
         "domain": [
          0,
          1
         ],
         "title": {
          "text": "Total Motor Vehicles"
         }
        },
        "yaxis": {
         "anchor": "x",
         "domain": [
          0,
          1
         ],
         "title": {
          "text": "Local Authority"
         }
        }
       }
      }
     },
     "metadata": {},
     "output_type": "display_data"
    }
   ],
   "source": [
    "import plotly.express as px\n",
    "\n",
    "# Assuming df_traffic is your DataFrame\n",
    "data_new = df_congestion.groupby(\"local_authority_name\")[\"all_motor_vehicles\"].sum().reset_index()\n",
    "\n",
    "fig = px.bar(data_new, y=\"local_authority_name\", x=\"all_motor_vehicles\", orientation=\"h\", \n",
    "             labels={\"all_motor_vehicles\": \"Total Motor Vehicles\", \"local_authority_name\": \"Local Authority\"})\n",
    "\n",
    "fig.show()\n",
    "\n"
   ]
  },
  {
   "cell_type": "code",
   "execution_count": 32,
   "metadata": {},
   "outputs": [
    {
     "data": {
      "application/vnd.plotly.v1+json": {
       "config": {
        "plotlyServerURL": "https://plot.ly"
       },
       "data": [
        {
         "alignmentgroup": "True",
         "hovertemplate": "local_authority_name=Camden<br>Year=%{x}<br>Total Motor Vehicles=%{y}<extra></extra>",
         "legendgroup": "Camden",
         "marker": {
          "color": "#636efa",
          "pattern": {
           "shape": ""
          }
         },
         "name": "Camden",
         "offsetgroup": "Camden",
         "orientation": "v",
         "showlegend": true,
         "textposition": "auto",
         "type": "bar",
         "x": [
          2000,
          2001,
          2002,
          2003,
          2004,
          2005,
          2006,
          2007,
          2008,
          2009,
          2010,
          2011,
          2012,
          2013,
          2014,
          2015,
          2016,
          2017,
          2018,
          2019,
          2020,
          2021,
          2022
         ],
         "xaxis": "x",
         "y": [
          1269454,
          1247698,
          1193211,
          1204475,
          1150915,
          1150737,
          1203319,
          1186941,
          1186141,
          1126682,
          1063786,
          1026080,
          981596,
          954021,
          963028,
          951955,
          938238,
          947083,
          932754,
          884748,
          664807,
          699568,
          733237
         ],
         "yaxis": "y"
        },
        {
         "alignmentgroup": "True",
         "hovertemplate": "local_authority_name=City of London<br>Year=%{x}<br>Total Motor Vehicles=%{y}<extra></extra>",
         "legendgroup": "City of London",
         "marker": {
          "color": "#EF553B",
          "pattern": {
           "shape": ""
          }
         },
         "name": "City of London",
         "offsetgroup": "City of London",
         "orientation": "v",
         "showlegend": true,
         "textposition": "auto",
         "type": "bar",
         "x": [
          2000,
          2001,
          2002,
          2003,
          2004,
          2005,
          2006,
          2007,
          2008,
          2009,
          2010,
          2011,
          2012,
          2013,
          2014,
          2015,
          2016,
          2017,
          2018,
          2019,
          2020,
          2021,
          2022
         ],
         "xaxis": "x",
         "y": [
          754350,
          729158,
          674135,
          711906,
          731443,
          721095,
          754919,
          708440,
          659350,
          624205,
          555187,
          548563,
          507501,
          517215,
          534956,
          529061,
          486096,
          437525,
          398287,
          397368,
          287240,
          300269,
          305210
         ],
         "yaxis": "y"
        },
        {
         "alignmentgroup": "True",
         "hovertemplate": "local_authority_name=Islington<br>Year=%{x}<br>Total Motor Vehicles=%{y}<extra></extra>",
         "legendgroup": "Islington",
         "marker": {
          "color": "#00cc96",
          "pattern": {
           "shape": ""
          }
         },
         "name": "Islington",
         "offsetgroup": "Islington",
         "orientation": "v",
         "showlegend": true,
         "textposition": "auto",
         "type": "bar",
         "x": [
          2000,
          2001,
          2002,
          2003,
          2004,
          2005,
          2006,
          2007,
          2008,
          2009,
          2010,
          2011,
          2012,
          2013,
          2014,
          2015,
          2016,
          2017,
          2018,
          2019,
          2020,
          2021,
          2022
         ],
         "xaxis": "x",
         "y": [
          1066867,
          1054706,
          1029108,
          1056468,
          991019,
          971619,
          1006803,
          996169,
          1005566,
          953651,
          892953,
          868772,
          831753,
          798345,
          803229,
          803889,
          810791,
          816197,
          803884,
          796390,
          618529,
          665208,
          704865
         ],
         "yaxis": "y"
        },
        {
         "alignmentgroup": "True",
         "hovertemplate": "local_authority_name=Lambeth<br>Year=%{x}<br>Total Motor Vehicles=%{y}<extra></extra>",
         "legendgroup": "Lambeth",
         "marker": {
          "color": "#ab63fa",
          "pattern": {
           "shape": ""
          }
         },
         "name": "Lambeth",
         "offsetgroup": "Lambeth",
         "orientation": "v",
         "showlegend": true,
         "textposition": "auto",
         "type": "bar",
         "x": [
          2000,
          2001,
          2002,
          2003,
          2004,
          2005,
          2006,
          2007,
          2008,
          2009,
          2010,
          2011,
          2012,
          2013,
          2014,
          2015,
          2016,
          2017,
          2018,
          2019,
          2020,
          2021,
          2022
         ],
         "xaxis": "x",
         "y": [
          1931583,
          1912561,
          1821586,
          1809710,
          1736471,
          1713995,
          1751932,
          1733362,
          1739404,
          1637034,
          1545423,
          1486885,
          1386037,
          1359826,
          1359981,
          1352978,
          1356491,
          1389182,
          1399925,
          1379012,
          1075938,
          1143808,
          1194018
         ],
         "yaxis": "y"
        },
        {
         "alignmentgroup": "True",
         "hovertemplate": "local_authority_name=Southwark<br>Year=%{x}<br>Total Motor Vehicles=%{y}<extra></extra>",
         "legendgroup": "Southwark",
         "marker": {
          "color": "#FFA15A",
          "pattern": {
           "shape": ""
          }
         },
         "name": "Southwark",
         "offsetgroup": "Southwark",
         "orientation": "v",
         "showlegend": true,
         "textposition": "auto",
         "type": "bar",
         "x": [
          2000,
          2001,
          2002,
          2003,
          2004,
          2005,
          2006,
          2007,
          2008,
          2009,
          2010,
          2011,
          2012,
          2013,
          2014,
          2015,
          2016,
          2017,
          2018,
          2019,
          2020,
          2021,
          2022
         ],
         "xaxis": "x",
         "y": [
          1617121,
          1621336,
          1570936,
          1540659,
          1471116,
          1453167,
          1487634,
          1444502,
          1379529,
          1345808,
          1254254,
          1224596,
          1120704,
          1108509,
          1110473,
          1127691,
          1124334,
          1152460,
          1170912,
          1198226,
          939026,
          998268,
          1037842
         ],
         "yaxis": "y"
        },
        {
         "alignmentgroup": "True",
         "hovertemplate": "local_authority_name=Tower Hamlets<br>Year=%{x}<br>Total Motor Vehicles=%{y}<extra></extra>",
         "legendgroup": "Tower Hamlets",
         "marker": {
          "color": "#19d3f3",
          "pattern": {
           "shape": ""
          }
         },
         "name": "Tower Hamlets",
         "offsetgroup": "Tower Hamlets",
         "orientation": "v",
         "showlegend": true,
         "textposition": "auto",
         "type": "bar",
         "x": [
          2000,
          2001,
          2002,
          2003,
          2004,
          2005,
          2006,
          2007,
          2008,
          2009,
          2010,
          2011,
          2012,
          2013,
          2014,
          2015,
          2016,
          2017,
          2018,
          2019,
          2020,
          2021,
          2022
         ],
         "xaxis": "x",
         "y": [
          1941156,
          2016936,
          1991357,
          2022795,
          1953156,
          1984072,
          2111648,
          2143087,
          2178388,
          2187743,
          2161636,
          2077687,
          1945683,
          1960759,
          1908754,
          1891266,
          1923135,
          1963727,
          2018227,
          2029682,
          1634467,
          1688306,
          1744856
         ],
         "yaxis": "y"
        },
        {
         "alignmentgroup": "True",
         "hovertemplate": "local_authority_name=Westminster<br>Year=%{x}<br>Total Motor Vehicles=%{y}<extra></extra>",
         "legendgroup": "Westminster",
         "marker": {
          "color": "#FF6692",
          "pattern": {
           "shape": ""
          }
         },
         "name": "Westminster",
         "offsetgroup": "Westminster",
         "orientation": "v",
         "showlegend": true,
         "textposition": "auto",
         "type": "bar",
         "x": [
          2000,
          2001,
          2002,
          2003,
          2004,
          2005,
          2006,
          2007,
          2008,
          2009,
          2010,
          2011,
          2012,
          2013,
          2014,
          2015,
          2016,
          2017,
          2018,
          2019,
          2020,
          2021,
          2022
         ],
         "xaxis": "x",
         "y": [
          1745667,
          1657205,
          1621501,
          1642273,
          1710994,
          1705930,
          1726155,
          1618069,
          1562906,
          1498295,
          1408424,
          1392042,
          1340734,
          1319797,
          1312672,
          1360915,
          1325062,
          1274602,
          1295407,
          1305636,
          940702,
          996615,
          1034174
         ],
         "yaxis": "y"
        }
       ],
       "layout": {
        "barmode": "relative",
        "legend": {
         "title": {
          "text": "local_authority_name"
         },
         "tracegroupgap": 0
        },
        "margin": {
         "t": 60
        },
        "template": {
         "data": {
          "bar": [
           {
            "error_x": {
             "color": "#2a3f5f"
            },
            "error_y": {
             "color": "#2a3f5f"
            },
            "marker": {
             "line": {
              "color": "#E5ECF6",
              "width": 0.5
             },
             "pattern": {
              "fillmode": "overlay",
              "size": 10,
              "solidity": 0.2
             }
            },
            "type": "bar"
           }
          ],
          "barpolar": [
           {
            "marker": {
             "line": {
              "color": "#E5ECF6",
              "width": 0.5
             },
             "pattern": {
              "fillmode": "overlay",
              "size": 10,
              "solidity": 0.2
             }
            },
            "type": "barpolar"
           }
          ],
          "carpet": [
           {
            "aaxis": {
             "endlinecolor": "#2a3f5f",
             "gridcolor": "white",
             "linecolor": "white",
             "minorgridcolor": "white",
             "startlinecolor": "#2a3f5f"
            },
            "baxis": {
             "endlinecolor": "#2a3f5f",
             "gridcolor": "white",
             "linecolor": "white",
             "minorgridcolor": "white",
             "startlinecolor": "#2a3f5f"
            },
            "type": "carpet"
           }
          ],
          "choropleth": [
           {
            "colorbar": {
             "outlinewidth": 0,
             "ticks": ""
            },
            "type": "choropleth"
           }
          ],
          "contour": [
           {
            "colorbar": {
             "outlinewidth": 0,
             "ticks": ""
            },
            "colorscale": [
             [
              0,
              "#0d0887"
             ],
             [
              0.1111111111111111,
              "#46039f"
             ],
             [
              0.2222222222222222,
              "#7201a8"
             ],
             [
              0.3333333333333333,
              "#9c179e"
             ],
             [
              0.4444444444444444,
              "#bd3786"
             ],
             [
              0.5555555555555556,
              "#d8576b"
             ],
             [
              0.6666666666666666,
              "#ed7953"
             ],
             [
              0.7777777777777778,
              "#fb9f3a"
             ],
             [
              0.8888888888888888,
              "#fdca26"
             ],
             [
              1,
              "#f0f921"
             ]
            ],
            "type": "contour"
           }
          ],
          "contourcarpet": [
           {
            "colorbar": {
             "outlinewidth": 0,
             "ticks": ""
            },
            "type": "contourcarpet"
           }
          ],
          "heatmap": [
           {
            "colorbar": {
             "outlinewidth": 0,
             "ticks": ""
            },
            "colorscale": [
             [
              0,
              "#0d0887"
             ],
             [
              0.1111111111111111,
              "#46039f"
             ],
             [
              0.2222222222222222,
              "#7201a8"
             ],
             [
              0.3333333333333333,
              "#9c179e"
             ],
             [
              0.4444444444444444,
              "#bd3786"
             ],
             [
              0.5555555555555556,
              "#d8576b"
             ],
             [
              0.6666666666666666,
              "#ed7953"
             ],
             [
              0.7777777777777778,
              "#fb9f3a"
             ],
             [
              0.8888888888888888,
              "#fdca26"
             ],
             [
              1,
              "#f0f921"
             ]
            ],
            "type": "heatmap"
           }
          ],
          "heatmapgl": [
           {
            "colorbar": {
             "outlinewidth": 0,
             "ticks": ""
            },
            "colorscale": [
             [
              0,
              "#0d0887"
             ],
             [
              0.1111111111111111,
              "#46039f"
             ],
             [
              0.2222222222222222,
              "#7201a8"
             ],
             [
              0.3333333333333333,
              "#9c179e"
             ],
             [
              0.4444444444444444,
              "#bd3786"
             ],
             [
              0.5555555555555556,
              "#d8576b"
             ],
             [
              0.6666666666666666,
              "#ed7953"
             ],
             [
              0.7777777777777778,
              "#fb9f3a"
             ],
             [
              0.8888888888888888,
              "#fdca26"
             ],
             [
              1,
              "#f0f921"
             ]
            ],
            "type": "heatmapgl"
           }
          ],
          "histogram": [
           {
            "marker": {
             "pattern": {
              "fillmode": "overlay",
              "size": 10,
              "solidity": 0.2
             }
            },
            "type": "histogram"
           }
          ],
          "histogram2d": [
           {
            "colorbar": {
             "outlinewidth": 0,
             "ticks": ""
            },
            "colorscale": [
             [
              0,
              "#0d0887"
             ],
             [
              0.1111111111111111,
              "#46039f"
             ],
             [
              0.2222222222222222,
              "#7201a8"
             ],
             [
              0.3333333333333333,
              "#9c179e"
             ],
             [
              0.4444444444444444,
              "#bd3786"
             ],
             [
              0.5555555555555556,
              "#d8576b"
             ],
             [
              0.6666666666666666,
              "#ed7953"
             ],
             [
              0.7777777777777778,
              "#fb9f3a"
             ],
             [
              0.8888888888888888,
              "#fdca26"
             ],
             [
              1,
              "#f0f921"
             ]
            ],
            "type": "histogram2d"
           }
          ],
          "histogram2dcontour": [
           {
            "colorbar": {
             "outlinewidth": 0,
             "ticks": ""
            },
            "colorscale": [
             [
              0,
              "#0d0887"
             ],
             [
              0.1111111111111111,
              "#46039f"
             ],
             [
              0.2222222222222222,
              "#7201a8"
             ],
             [
              0.3333333333333333,
              "#9c179e"
             ],
             [
              0.4444444444444444,
              "#bd3786"
             ],
             [
              0.5555555555555556,
              "#d8576b"
             ],
             [
              0.6666666666666666,
              "#ed7953"
             ],
             [
              0.7777777777777778,
              "#fb9f3a"
             ],
             [
              0.8888888888888888,
              "#fdca26"
             ],
             [
              1,
              "#f0f921"
             ]
            ],
            "type": "histogram2dcontour"
           }
          ],
          "mesh3d": [
           {
            "colorbar": {
             "outlinewidth": 0,
             "ticks": ""
            },
            "type": "mesh3d"
           }
          ],
          "parcoords": [
           {
            "line": {
             "colorbar": {
              "outlinewidth": 0,
              "ticks": ""
             }
            },
            "type": "parcoords"
           }
          ],
          "pie": [
           {
            "automargin": true,
            "type": "pie"
           }
          ],
          "scatter": [
           {
            "fillpattern": {
             "fillmode": "overlay",
             "size": 10,
             "solidity": 0.2
            },
            "type": "scatter"
           }
          ],
          "scatter3d": [
           {
            "line": {
             "colorbar": {
              "outlinewidth": 0,
              "ticks": ""
             }
            },
            "marker": {
             "colorbar": {
              "outlinewidth": 0,
              "ticks": ""
             }
            },
            "type": "scatter3d"
           }
          ],
          "scattercarpet": [
           {
            "marker": {
             "colorbar": {
              "outlinewidth": 0,
              "ticks": ""
             }
            },
            "type": "scattercarpet"
           }
          ],
          "scattergeo": [
           {
            "marker": {
             "colorbar": {
              "outlinewidth": 0,
              "ticks": ""
             }
            },
            "type": "scattergeo"
           }
          ],
          "scattergl": [
           {
            "marker": {
             "colorbar": {
              "outlinewidth": 0,
              "ticks": ""
             }
            },
            "type": "scattergl"
           }
          ],
          "scattermapbox": [
           {
            "marker": {
             "colorbar": {
              "outlinewidth": 0,
              "ticks": ""
             }
            },
            "type": "scattermapbox"
           }
          ],
          "scatterpolar": [
           {
            "marker": {
             "colorbar": {
              "outlinewidth": 0,
              "ticks": ""
             }
            },
            "type": "scatterpolar"
           }
          ],
          "scatterpolargl": [
           {
            "marker": {
             "colorbar": {
              "outlinewidth": 0,
              "ticks": ""
             }
            },
            "type": "scatterpolargl"
           }
          ],
          "scatterternary": [
           {
            "marker": {
             "colorbar": {
              "outlinewidth": 0,
              "ticks": ""
             }
            },
            "type": "scatterternary"
           }
          ],
          "surface": [
           {
            "colorbar": {
             "outlinewidth": 0,
             "ticks": ""
            },
            "colorscale": [
             [
              0,
              "#0d0887"
             ],
             [
              0.1111111111111111,
              "#46039f"
             ],
             [
              0.2222222222222222,
              "#7201a8"
             ],
             [
              0.3333333333333333,
              "#9c179e"
             ],
             [
              0.4444444444444444,
              "#bd3786"
             ],
             [
              0.5555555555555556,
              "#d8576b"
             ],
             [
              0.6666666666666666,
              "#ed7953"
             ],
             [
              0.7777777777777778,
              "#fb9f3a"
             ],
             [
              0.8888888888888888,
              "#fdca26"
             ],
             [
              1,
              "#f0f921"
             ]
            ],
            "type": "surface"
           }
          ],
          "table": [
           {
            "cells": {
             "fill": {
              "color": "#EBF0F8"
             },
             "line": {
              "color": "white"
             }
            },
            "header": {
             "fill": {
              "color": "#C8D4E3"
             },
             "line": {
              "color": "white"
             }
            },
            "type": "table"
           }
          ]
         },
         "layout": {
          "annotationdefaults": {
           "arrowcolor": "#2a3f5f",
           "arrowhead": 0,
           "arrowwidth": 1
          },
          "autotypenumbers": "strict",
          "coloraxis": {
           "colorbar": {
            "outlinewidth": 0,
            "ticks": ""
           }
          },
          "colorscale": {
           "diverging": [
            [
             0,
             "#8e0152"
            ],
            [
             0.1,
             "#c51b7d"
            ],
            [
             0.2,
             "#de77ae"
            ],
            [
             0.3,
             "#f1b6da"
            ],
            [
             0.4,
             "#fde0ef"
            ],
            [
             0.5,
             "#f7f7f7"
            ],
            [
             0.6,
             "#e6f5d0"
            ],
            [
             0.7,
             "#b8e186"
            ],
            [
             0.8,
             "#7fbc41"
            ],
            [
             0.9,
             "#4d9221"
            ],
            [
             1,
             "#276419"
            ]
           ],
           "sequential": [
            [
             0,
             "#0d0887"
            ],
            [
             0.1111111111111111,
             "#46039f"
            ],
            [
             0.2222222222222222,
             "#7201a8"
            ],
            [
             0.3333333333333333,
             "#9c179e"
            ],
            [
             0.4444444444444444,
             "#bd3786"
            ],
            [
             0.5555555555555556,
             "#d8576b"
            ],
            [
             0.6666666666666666,
             "#ed7953"
            ],
            [
             0.7777777777777778,
             "#fb9f3a"
            ],
            [
             0.8888888888888888,
             "#fdca26"
            ],
            [
             1,
             "#f0f921"
            ]
           ],
           "sequentialminus": [
            [
             0,
             "#0d0887"
            ],
            [
             0.1111111111111111,
             "#46039f"
            ],
            [
             0.2222222222222222,
             "#7201a8"
            ],
            [
             0.3333333333333333,
             "#9c179e"
            ],
            [
             0.4444444444444444,
             "#bd3786"
            ],
            [
             0.5555555555555556,
             "#d8576b"
            ],
            [
             0.6666666666666666,
             "#ed7953"
            ],
            [
             0.7777777777777778,
             "#fb9f3a"
            ],
            [
             0.8888888888888888,
             "#fdca26"
            ],
            [
             1,
             "#f0f921"
            ]
           ]
          },
          "colorway": [
           "#636efa",
           "#EF553B",
           "#00cc96",
           "#ab63fa",
           "#FFA15A",
           "#19d3f3",
           "#FF6692",
           "#B6E880",
           "#FF97FF",
           "#FECB52"
          ],
          "font": {
           "color": "#2a3f5f"
          },
          "geo": {
           "bgcolor": "white",
           "lakecolor": "white",
           "landcolor": "#E5ECF6",
           "showlakes": true,
           "showland": true,
           "subunitcolor": "white"
          },
          "hoverlabel": {
           "align": "left"
          },
          "hovermode": "closest",
          "mapbox": {
           "style": "light"
          },
          "paper_bgcolor": "white",
          "plot_bgcolor": "#E5ECF6",
          "polar": {
           "angularaxis": {
            "gridcolor": "white",
            "linecolor": "white",
            "ticks": ""
           },
           "bgcolor": "#E5ECF6",
           "radialaxis": {
            "gridcolor": "white",
            "linecolor": "white",
            "ticks": ""
           }
          },
          "scene": {
           "xaxis": {
            "backgroundcolor": "#E5ECF6",
            "gridcolor": "white",
            "gridwidth": 2,
            "linecolor": "white",
            "showbackground": true,
            "ticks": "",
            "zerolinecolor": "white"
           },
           "yaxis": {
            "backgroundcolor": "#E5ECF6",
            "gridcolor": "white",
            "gridwidth": 2,
            "linecolor": "white",
            "showbackground": true,
            "ticks": "",
            "zerolinecolor": "white"
           },
           "zaxis": {
            "backgroundcolor": "#E5ECF6",
            "gridcolor": "white",
            "gridwidth": 2,
            "linecolor": "white",
            "showbackground": true,
            "ticks": "",
            "zerolinecolor": "white"
           }
          },
          "shapedefaults": {
           "line": {
            "color": "#2a3f5f"
           }
          },
          "ternary": {
           "aaxis": {
            "gridcolor": "white",
            "linecolor": "white",
            "ticks": ""
           },
           "baxis": {
            "gridcolor": "white",
            "linecolor": "white",
            "ticks": ""
           },
           "bgcolor": "#E5ECF6",
           "caxis": {
            "gridcolor": "white",
            "linecolor": "white",
            "ticks": ""
           }
          },
          "title": {
           "x": 0.05
          },
          "xaxis": {
           "automargin": true,
           "gridcolor": "white",
           "linecolor": "white",
           "ticks": "",
           "title": {
            "standoff": 15
           },
           "zerolinecolor": "white",
           "zerolinewidth": 2
          },
          "yaxis": {
           "automargin": true,
           "gridcolor": "white",
           "linecolor": "white",
           "ticks": "",
           "title": {
            "standoff": 15
           },
           "zerolinecolor": "white",
           "zerolinewidth": 2
          }
         }
        },
        "xaxis": {
         "anchor": "y",
         "domain": [
          0,
          1
         ],
         "title": {
          "text": "Year"
         }
        },
        "yaxis": {
         "anchor": "x",
         "domain": [
          0,
          1
         ],
         "title": {
          "text": "Total Motor Vehicles"
         }
        }
       }
      }
     },
     "metadata": {},
     "output_type": "display_data"
    }
   ],
   "source": [
    "import plotly.express as px\n",
    "\n",
    "# Assuming df_traffic is your DataFrame\n",
    "data_new = df_congestion_new.groupby([\"local_authority_name\", \"year\"])[\"all_motor_vehicles\"].sum().reset_index()\n",
    "\n",
    "fig = px.bar(data_new, x=\"year\", y=\"all_motor_vehicles\", color=\"local_authority_name\",\n",
    "             labels={\"all_motor_vehicles\": \"Total Motor Vehicles\", \"year\": \"Year\"})\n",
    "\n",
    "fig.show()\n"
   ]
  },
  {
   "cell_type": "code",
   "execution_count": null,
   "metadata": {},
   "outputs": [],
   "source": []
  }
 ],
 "metadata": {
  "kernelspec": {
   "display_name": "base",
   "language": "python",
   "name": "python3"
  },
  "language_info": {
   "codemirror_mode": {
    "name": "ipython",
    "version": 3
   },
   "file_extension": ".py",
   "mimetype": "text/x-python",
   "name": "python",
   "nbconvert_exporter": "python",
   "pygments_lexer": "ipython3",
   "version": "3.11.4"
  }
 },
 "nbformat": 4,
 "nbformat_minor": 2
}
